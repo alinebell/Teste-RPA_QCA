{
 "cells": [
  {
   "cell_type": "code",
   "execution_count": 13,
   "id": "6cfe797f",
   "metadata": {},
   "outputs": [
    {
     "name": "stdout",
     "output_type": "stream",
     "text": [
      "Seu e-mail foi enviado!\n"
     ]
    }
   ],
   "source": [
    "import smtplib\n",
    "import email.message\n",
    "import os\n",
    "from email.mime.multipart import MIMEMultipart\n",
    "from email.mime.base import MIMEBase\n",
    "from email.mime.text import MIMEText\n",
    "from email.utils import COMMASPACE\n",
    "from email import encoders\n",
    "\n",
    "\n",
    "smtp_server = 'smtp.gmail.com'\n",
    "smtp_port = 587\n",
    "smtp_user = 'remetente@email.com'\n",
    "smtp_password = 'senha gerada no senhas de app'\n",
    "to = ['destinatário1@email.com', 'destinatário2@email.com']\n",
    "subject = 'Assunto do email'\n",
    "\n",
    "\n",
    "filename = 'bairro.csv'\n",
    "filepath = os.path.join(os.getcwd(), filename)\n",
    "\n",
    "\n",
    "msg = MIMEMultipart()\n",
    "msg['From'] = smtp_user\n",
    "msg['To'] = COMMASPACE.join(to)\n",
    "msg['Subject'] = subject\n",
    "msg.attach(MIMEText(\"Corpo do email\"))\n",
    "\n",
    "\n",
    "part = MIMEBase('application', \"octet-stream\")\n",
    "part.set_payload(open(filepath, \"rb\").read())\n",
    "encoders.encode_base64(part)\n",
    "part.add_header('Content-Disposition', 'attachment', filename=filename)\n",
    "msg.attach(part)\n",
    "\n",
    "\n",
    "server = smtplib.SMTP(smtp_server, smtp_port)\n",
    "server.starttls()\n",
    "server.login(smtp_user, smtp_password)\n",
    "server.sendmail(smtp_user, to, msg.as_string())\n",
    "server.quit()\n",
    "\n",
    "print('Seu e-mail foi enviado!')\n"
   ]
  },
  {
   "cell_type": "code",
   "execution_count": null,
   "id": "6223f6c7",
   "metadata": {},
   "outputs": [],
   "source": []
  }
 ],
 "metadata": {
  "kernelspec": {
   "display_name": "Python 3 (ipykernel)",
   "language": "python",
   "name": "python3"
  },
  "language_info": {
   "codemirror_mode": {
    "name": "ipython",
    "version": 3
   },
   "file_extension": ".py",
   "mimetype": "text/x-python",
   "name": "python",
   "nbconvert_exporter": "python",
   "pygments_lexer": "ipython3",
   "version": "3.10.9"
  }
 },
 "nbformat": 4,
 "nbformat_minor": 5
}
