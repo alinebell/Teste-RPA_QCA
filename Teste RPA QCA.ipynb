{
 "cells": [
  {
   "cell_type": "code",
   "execution_count": 9,
   "id": "60a231a0",
   "metadata": {},
   "outputs": [],
   "source": [
    "from selenium import webdriver\n",
    "from selenium.webdriver.common.by import By\n",
    "from selenium.webdriver.support.ui import WebDriverWait\n",
    "from selenium.webdriver.support import expected_conditions as EC\n",
    "\n",
    "driver = webdriver.Chrome()\n",
    "\n",
    "driver.get('http://dados.recife.pe.gov.br/organization')\n",
    "\n",
    "wait = WebDriverWait(driver, 10)\n",
    "\n",
    "element = wait.until(EC.presence_of_element_located((By.XPATH, '//*[@id=\"content\"]/div[3]/div/article/div/ul/li[19]/a')))\n",
    "\n",
    "element.click()\n",
    "\n",
    "element = wait.until(EC.presence_of_element_located((By.XPATH, '//*[@id=\"content\"]/div[3]/div/article/div/ul/li[1]/div/h3/a')))\n",
    "\n",
    "element.click()\n",
    "\n",
    "element = wait.until(EC.presence_of_element_located((By.XPATH, '//*[@id=\"dataset-resources\"]/ul/li[1]/div/a')))\n",
    "\n",
    "element.click()\n",
    "\n",
    "element = wait.until(EC.presence_of_element_located((By.XPATH, '//*[@id=\"dataset-resources\"]/ul/li[1]/div/ul/li[2]/a')))\n",
    "\n",
    "element.click()\n",
    "\n",
    "\n"
   ]
  },
  {
   "cell_type": "code",
   "execution_count": null,
   "id": "27e4b102",
   "metadata": {},
   "outputs": [],
   "source": []
  }
 ],
 "metadata": {
  "kernelspec": {
   "display_name": "Python 3 (ipykernel)",
   "language": "python",
   "name": "python3"
  },
  "language_info": {
   "codemirror_mode": {
    "name": "ipython",
    "version": 3
   },
   "file_extension": ".py",
   "mimetype": "text/x-python",
   "name": "python",
   "nbconvert_exporter": "python",
   "pygments_lexer": "ipython3",
   "version": "3.10.9"
  }
 },
 "nbformat": 4,
 "nbformat_minor": 5
}
